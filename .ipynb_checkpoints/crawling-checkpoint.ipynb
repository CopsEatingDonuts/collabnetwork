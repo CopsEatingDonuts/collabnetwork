{
 "cells": [
  {
   "cell_type": "code",
   "execution_count": 1,
   "id": "9bba44ff",
   "metadata": {},
   "outputs": [],
   "source": [
    "import pandas as pd\n",
    "import numpy as np\n",
    "import requests\n",
    "import xml.etree.ElementTree as ET\n",
    "from tqdm.notebook import tqdm\n",
    "import time"
   ]
  },
  {
   "cell_type": "code",
   "execution_count": 2,
   "id": "49d00524",
   "metadata": {},
   "outputs": [],
   "source": [
    "scientists = pd.read_excel('./Input/DataScientists.xls')"
   ]
  },
  {
   "cell_type": "code",
   "execution_count": 3,
   "id": "04d52587",
   "metadata": {},
   "outputs": [
    {
     "data": {
      "text/html": [
       "<div>\n",
       "<style scoped>\n",
       "    .dataframe tbody tr th:only-of-type {\n",
       "        vertical-align: middle;\n",
       "    }\n",
       "\n",
       "    .dataframe tbody tr th {\n",
       "        vertical-align: top;\n",
       "    }\n",
       "\n",
       "    .dataframe thead th {\n",
       "        text-align: right;\n",
       "    }\n",
       "</style>\n",
       "<table border=\"1\" class=\"dataframe\">\n",
       "  <thead>\n",
       "    <tr style=\"text-align: right;\">\n",
       "      <th></th>\n",
       "      <th>name</th>\n",
       "      <th>country</th>\n",
       "      <th>institution</th>\n",
       "      <th>dblp</th>\n",
       "      <th>expertise</th>\n",
       "    </tr>\n",
       "  </thead>\n",
       "  <tbody>\n",
       "    <tr>\n",
       "      <th>0</th>\n",
       "      <td>aaron elmore</td>\n",
       "      <td>united states</td>\n",
       "      <td>university of chicago</td>\n",
       "      <td>https://dblp.org/pers/e/Elmore:Aaron_J=.html</td>\n",
       "      <td>NaN</td>\n",
       "    </tr>\n",
       "    <tr>\n",
       "      <th>1</th>\n",
       "      <td>abdalghani abujabal</td>\n",
       "      <td>germany</td>\n",
       "      <td>amazon alexa</td>\n",
       "      <td>https://dblp.org/pers/a/Abujabal:Abdalghani.html</td>\n",
       "      <td>NaN</td>\n",
       "    </tr>\n",
       "    <tr>\n",
       "      <th>2</th>\n",
       "      <td>abdul quamar</td>\n",
       "      <td>united states</td>\n",
       "      <td>ibm research almaden</td>\n",
       "      <td>https://dblp.org/pers/q/Quamar:Abdul.html</td>\n",
       "      <td>NaN</td>\n",
       "    </tr>\n",
       "    <tr>\n",
       "      <th>3</th>\n",
       "      <td>abdulhakim qahtan</td>\n",
       "      <td>netherlands</td>\n",
       "      <td>utrecht university</td>\n",
       "      <td>https://dblp.org/pid/121/4198.html</td>\n",
       "      <td>NaN</td>\n",
       "    </tr>\n",
       "    <tr>\n",
       "      <th>4</th>\n",
       "      <td>abhijnan chakraborty</td>\n",
       "      <td>germany</td>\n",
       "      <td>max planck institute for software systems</td>\n",
       "      <td>https://dblp.org/pers/c/Chakraborty:Abhijnan.html</td>\n",
       "      <td>NaN</td>\n",
       "    </tr>\n",
       "  </tbody>\n",
       "</table>\n",
       "</div>"
      ],
      "text/plain": [
       "                   name        country  \\\n",
       "0          aaron elmore  united states   \n",
       "1   abdalghani abujabal        germany   \n",
       "2          abdul quamar  united states   \n",
       "3     abdulhakim qahtan    netherlands   \n",
       "4  abhijnan chakraborty        germany   \n",
       "\n",
       "                                 institution  \\\n",
       "0                      university of chicago   \n",
       "1                               amazon alexa   \n",
       "2                       ibm research almaden   \n",
       "3                         utrecht university   \n",
       "4  max planck institute for software systems   \n",
       "\n",
       "                                                dblp  expertise  \n",
       "0       https://dblp.org/pers/e/Elmore:Aaron_J=.html        NaN  \n",
       "1   https://dblp.org/pers/a/Abujabal:Abdalghani.html        NaN  \n",
       "2          https://dblp.org/pers/q/Quamar:Abdul.html        NaN  \n",
       "3                 https://dblp.org/pid/121/4198.html        NaN  \n",
       "4  https://dblp.org/pers/c/Chakraborty:Abhijnan.html        NaN  "
      ]
     },
     "execution_count": 3,
     "metadata": {},
     "output_type": "execute_result"
    }
   ],
   "source": [
    "scientists.head()"
   ]
  },
  {
   "cell_type": "code",
   "execution_count": 4,
   "id": "96491be6",
   "metadata": {},
   "outputs": [
    {
     "data": {
      "text/plain": [
       "(1220, 5)"
      ]
     },
     "execution_count": 4,
     "metadata": {},
     "output_type": "execute_result"
    }
   ],
   "source": [
    "scientists.shape"
   ]
  },
  {
   "cell_type": "code",
   "execution_count": 5,
   "id": "427a168b",
   "metadata": {},
   "outputs": [],
   "source": [
    "scientists.drop_duplicates(subset='dblp', inplace=True, ignore_index=True) #remove duplicates by url"
   ]
  },
  {
   "cell_type": "code",
   "execution_count": 6,
   "id": "c7f8f77f",
   "metadata": {},
   "outputs": [
    {
     "data": {
      "text/plain": [
       "(1079, 5)"
      ]
     },
     "execution_count": 6,
     "metadata": {},
     "output_type": "execute_result"
    }
   ],
   "source": [
    "scientists.shape"
   ]
  },
  {
   "cell_type": "markdown",
   "id": "ff91c947",
   "metadata": {},
   "source": [
    "# Crawling for Q1 & Q2 (All collaborations, collaborations in yearly granularity)"
   ]
  },
  {
   "cell_type": "code",
   "execution_count": 7,
   "id": "c377af70",
   "metadata": {},
   "outputs": [],
   "source": [
    "def get_author_year_series(root):\n",
    "    \n",
    "    if root == None:\n",
    "        return None\n",
    "    \n",
    "    author = root.attrib['pid']\n",
    "\n",
    "    year_coauthor_dict = dict()\n",
    "    for i in range(0, len(root)): \n",
    "    \n",
    "        if root[i].tag == 'r': #only look at article entries\n",
    "        \n",
    "            publish_work = root[i][0].attrib['key']\n",
    "            publish_year = root[i][0].attrib['mdate'][:4] #year\n",
    "        \n",
    "            current_year_coauthor_list = []\n",
    "        \n",
    "            for j in range(0, len(root[i][0])):\n",
    "                if root[i][0][j].tag == 'author': \n",
    "                    current_year_coauthor_list.append(root[i][0][j].attrib['pid'])\n",
    "        \n",
    "            if publish_year not in year_coauthor_dict:\n",
    "                year_coauthor_dict[publish_year] = current_year_coauthor_list\n",
    "            \n",
    "            else: year_coauthor_dict[publish_year] = year_coauthor_dict[publish_year] + current_year_coauthor_list\n",
    "        \n",
    "    for year in year_coauthor_dict:\n",
    "        year_coauthor_dict[year] = [year_coauthor_dict[year]]\n",
    "        \n",
    "    year_coauthor_series = pd.Series(year_coauthor_dict, name = author)\n",
    "    return year_coauthor_series\n",
    "\n",
    "def get_author_root(url):\n",
    "    try:\n",
    "        r = requests.get(url[:-4] + 'xml').text\n",
    "        root = ET.fromstring(r)\n",
    "    except:\n",
    "        return None\n",
    "    \n",
    "    return root"
   ]
  },
  {
   "cell_type": "code",
   "execution_count": 9,
   "id": "390a50ce",
   "metadata": {},
   "outputs": [
    {
     "name": "stdout",
     "output_type": "stream",
     "text": [
      "progress:  0\n",
      "progress:  100\n",
      "progress:  200\n",
      "progress:  300\n",
      "progress:  400\n",
      "progress:  500\n",
      "progress:  600\n",
      "progress:  700\n",
      "progress:  800\n",
      "progress:  900\n",
      "progress:  1000\n"
     ]
    }
   ],
   "source": [
    "collab_network_list = []\n",
    "problem_list = []\n",
    "join_series_list = []\n",
    "\n",
    "for i in range(0, len(scientists)):\n",
    "    url = scientists.iloc[i]['dblp']    \n",
    "    r = requests.get(url[:-4] + 'xml').text\n",
    "    \n",
    "    try:\n",
    "        root = ET.fromstring(r)\n",
    "    \n",
    "    except:\n",
    "        problem_list.append([root.attrib['pid'], url]) #track problematic entries\n",
    "        continue\n",
    "    \n",
    "    author_pid = root.attrib['pid'] #figure out the pid of the author\n",
    "    author_name = root.attrib['name']\n",
    "    \n",
    "    coauthors = []\n",
    "    \n",
    "    for j in range(0, len(root)): \n",
    "        if root[j].tag == 'r': #only look at article entries\n",
    "            #print(root[i][0].attrib['key']) #article name\n",
    "            for k in range(0, len(root[j][0])):\n",
    "                if root[j][0][k].tag == 'author': #coauthors\n",
    "                    #print(root[i][0][j].tag, \"{0:<30}\".format(root[i][0][j].text), 'pid: ' + root[i][0][j].attrib['pid'])\n",
    "                    coauthors.append(root[j][0][k].attrib['pid'])\n",
    "    \n",
    "    coauthors = set(coauthors) #remove duplicates\n",
    "    collab_network_list.append([author_name, author_pid, coauthors])\n",
    "\n",
    "    join_series = get_author_year_series(root)\n",
    "    join_series_list.append(join_series)\n",
    "    \n",
    "    if i%100 == 0: print('progress: ', i)\n",
    "    \n",
    "collab_network_csv = pd.DataFrame(collab_network_list, columns = ['author_name', 'author_pid', 'coauthors_list'])\n",
    "problem_list_csv = pd.DataFrame(problem_list, columns = ['problem_pid', 'url'])"
   ]
  },
  {
   "cell_type": "code",
   "execution_count": 12,
   "id": "12740b24",
   "metadata": {},
   "outputs": [
    {
     "name": "stdout",
     "output_type": "stream",
     "text": [
      "976 103\n",
      "976\n"
     ]
    }
   ],
   "source": [
    "print(len(collab_network_list), len(problem_list))\n",
    "print(len(join_series_list))"
   ]
  },
  {
   "cell_type": "code",
   "execution_count": 13,
   "id": "fe413c18",
   "metadata": {},
   "outputs": [],
   "source": [
    "collab_network_csv.to_csv('output/collab_network_csv.csv')\n",
    "problem_list_csv.to_csv('output/problem_list_csv.csv')"
   ]
  },
  {
   "cell_type": "code",
   "execution_count": 14,
   "id": "13eb598b",
   "metadata": {},
   "outputs": [
    {
     "data": {
      "text/plain": [
       "[2024    [[42/469, 206/1695, 372/1694, 372/1979, 75/943...\n",
       " 2023    [[163/0545, 347/1729, 75/9436, f/CFaloutsos, f...\n",
       " 2022    [[163/0545, 147/1343, 194/6154, 287/9707, 288/...\n",
       " 2021    [[50/7680-2, 155/5478, 117/1897-2, 75/9436, 14...\n",
       " 2020    [[42/469-2, 147/1189, 75/9436, f/MJFranklin, 1...\n",
       " 2019    [[191/0540, 163/0545, 147/1189, 75/9436, f/MJF...\n",
       " 2018    [[228/8021, 228/7838, 10/6661, 75/9436, 131/41...\n",
       " 2017    [[a/DivyakantAgrawal, a/AmrElAbbadi, 71/5974, ...\n",
       " Name: 75/9436, dtype: object,\n",
       " 2023    [[226/4894, 40/4987, 162/9092, 295/3643, 295/3...\n",
       " 2021    [[162/9092, 162/9092, 25/11105, 162/9092, 96/7...\n",
       " 2019    [[250/2789, 96/7128, 162/9092, 54/7420, w/Gerh...\n",
       " 2018    [[06/180, 162/9092, 96/7128, 28/8510, w/Gerhar...\n",
       " Name: 162/9092, dtype: object,\n",
       " 2023    [[k/GeorgiaKoutrika, y/JunYang1, 82/7402, 76/3...\n",
       " 2022    [[127/6195, 87/11444, 87/10957, o/FatmaOzcan, ...\n",
       " 2021    [[o/FatmaOzcan, 87/10957, 127/6195, 87/11444, ...\n",
       " 2020    [[127/6195, 257/5495, 27/3375, 87/10957, 243/2...\n",
       " 2018    [[127/6195, d/AmolDeshpande, 127/6195, 86/4593...\n",
       " 2017    [[86/4593, 127/6195, d/AmolDeshpande, k/SamirK...\n",
       " Name: 127/6195, dtype: object,\n",
       " 2023    [[353/5639, 121/4198, 09/7444, 121/4198, 27/10...\n",
       " 2024    [[320/0361, 121/4198, 319/9703, v/YannisVelegr...\n",
       " 2019    [[121/4198, 27/104-1, o/MouradOuzzani, 25/7045...\n",
       " 2018    [[121/4198, e/AKElmagarmid, 131/4202, o/Mourad...\n",
       " Name: 121/4198, dtype: object,\n",
       " 2024    [[349/0104, 141/4293, 116/1678, 67/370, 345/64...\n",
       " 2023    [[188/5728, 116/1678, 06/900-1, m/AnimeshMukhe...\n",
       " 2022    [[48/10293, 73/10042, 116/1678, 141/9244, 57/4...\n",
       " 2021    [[240/9044, 294/1305, 40/7987, g/PKrishnaGumma...\n",
       " 2020    [[240/9044, 116/1678, 130/0373, g/PKrishnaGumm...\n",
       " 2019    [[48/10293, 116/1678, 73/10042, 141/9244, 57/4...\n",
       " 2018    [[116/1678, 116/1678, 230/4496, 52/6987, g/PKr...\n",
       " 2017    [[116/1678, 48/3394, p/VenkataNPadmanabhan, 97...\n",
       " Name: 116/1678, dtype: object,\n",
       " 2024    [[64/4985, 139/0855, 149/1236, 257/5042, j/Kyl...\n",
       " 2023    [[139/0855, 53/2182, 139/0855, 345/8476, 149/1...\n",
       " 2022    [[329/1467, 139/0855, 164/1195, 139/0855, 53/2...\n",
       " 2021    [[297/4262, 139/0855, 139/0855, 53/2182, 270/9...\n",
       " 2020    [[126/8775, 139/0855, 164/1195, 187/6216, 139/...\n",
       " Name: 139/0855, dtype: object,\n",
       " 2023    [[350/0704, 40/4462, 04/7892, 04/7892, b/TYBer...\n",
       " 2024    [[254/2107, 324/4835, 04/7892, 07/1181, 367/72...\n",
       " 2022    [[201/1548, 04/7892, 57/10514, 04/7892, 07/118...\n",
       " 2021    [[295/7143, g/PaoloGarza, 04/7892, 155/9999, 4...\n",
       " 2020    [[19/3936, 243/2448, 04/7892, j/HVJagadish, 16...\n",
       " 2019    [[251/9509, 04/7892, j/HVJagadish, h/BillHowe,...\n",
       " 2018    [[04/7892, 99/7868, z/NanZhang4, 07/1181, j/HV...\n",
       " Name: 04/7892, dtype: object,\n",
       " 2024    [[j/AdamJatowt, 04/11276, 132/1763, 38/2963-1,...\n",
       " 2023    [[75/6588-3, 138/3081, j/AdamJatowt, 342/1254,...\n",
       " 2022    [[286/1255, 132/1763, j/AdamJatowt, 213/8428, ...\n",
       " 2021    [[229/9231, 96/8781, 86/1691, 92/8851, j/AdamJ...\n",
       " 2020    [[38/2963-1, j/AlipioMarioJorge, j/AdamJatowt,...\n",
       " 2019    [[238/6310, j/AdamJatowt, 150/5181, 123/6906, ...\n",
       " 2018    [[129/9499, 216/7280, j/AdamJatowt, 38/2963-1,...\n",
       " 2017    [[07/7446, j/AdamJatowt, 44/3648, 44/3648, j/A...\n",
       " 2008                                                 [[]]\n",
       " 2004               [[j/AdamJatowt, 53/4885, i/MIshizuka]]\n",
       " Name: j/AdamJatowt, dtype: object,\n",
       " 2024    [[239/9655, 70/1446, 62/1373, 239/9655, 70/144...\n",
       " 2023    [[44/3103, 131/3440, 339/2016, 70/1446, 50/691...\n",
       " 2020    [[267/6734, 62/1373, c/PKChrysanthis, 116/4982...\n",
       " 2019                 [[150/7302, l/ALabrinidis, 62/1373]]\n",
       " 2018    [[216/5861, 62/1373, 70/1446, 116/4982, 62/137...\n",
       " 2022    [[19/3993, y/TingYu-1, 62/1373, 75/7398, 62/13...\n",
       " 2017    [[57/702, 38/7986, 62/1373, 50/6916, e/SandroE...\n",
       " Name: 62/1373, dtype: object,\n",
       " 2023                             [[21/8510, p/DavidPage]]\n",
       " 2018    [[04/9715, 72/11411, a/DJAbadi, 21/8510, 21/85...\n",
       " 2017                      [[04/9715, 21/8510, a/DJAbadi]]\n",
       " 2021                               [[21/8510, a/DJAbadi]]\n",
       " 2020    [[04/9715, 21/8510, a/DJAbadi, 21/8510, a/DJAb...\n",
       " Name: 21/8510, dtype: object]"
      ]
     },
     "execution_count": 14,
     "metadata": {},
     "output_type": "execute_result"
    }
   ],
   "source": [
    "join_series_list[:10]"
   ]
  },
  {
   "cell_type": "code",
   "execution_count": 17,
   "id": "508549d7",
   "metadata": {},
   "outputs": [],
   "source": [
    "year_granularity_df = pd.concat(join_series_list, axis=1, join='outer')"
   ]
  },
  {
   "cell_type": "code",
   "execution_count": 19,
   "id": "fc676b37-d411-410c-ac83-d63c2809f808",
   "metadata": {},
   "outputs": [
    {
     "data": {
      "text/plain": [
       "(23, 976)"
      ]
     },
     "execution_count": 19,
     "metadata": {},
     "output_type": "execute_result"
    }
   ],
   "source": [
    "year_granularity_df.shape"
   ]
  },
  {
   "cell_type": "code",
   "execution_count": 20,
   "id": "2003487b",
   "metadata": {},
   "outputs": [],
   "source": [
    "year_granularity_df.to_csv('output/year_granularity_df.csv')"
   ]
  }
 ],
 "metadata": {
  "kernelspec": {
   "display_name": "Python 3",
   "language": "python",
   "name": "python3"
  },
  "language_info": {
   "codemirror_mode": {
    "name": "ipython",
    "version": 3
   },
   "file_extension": ".py",
   "mimetype": "text/x-python",
   "name": "python",
   "nbconvert_exporter": "python",
   "pygments_lexer": "ipython3",
   "version": "3.8.8"
  }
 },
 "nbformat": 4,
 "nbformat_minor": 5
}
